{
 "cells": [
  {
   "cell_type": "code",
   "execution_count": 1,
   "id": "671eac95",
   "metadata": {},
   "outputs": [
    {
     "data": {
      "application/javascript": [
       "\n",
       "try {\n",
       "require(['notebook/js/codecell'], function(codecell) {\n",
       "  codecell.CodeCell.options_default.highlight_modes[\n",
       "      'magic_text/x-csrc'] = {'reg':[/^%%microblaze/]};\n",
       "  Jupyter.notebook.events.one('kernel_ready.Kernel', function(){\n",
       "      Jupyter.notebook.get_cells().map(function(cell){\n",
       "          if (cell.cell_type == 'code'){ cell.auto_highlight(); } }) ;\n",
       "  });\n",
       "});\n",
       "} catch (e) {};\n"
      ]
     },
     "metadata": {},
     "output_type": "display_data"
    },
    {
     "data": {
      "application/javascript": [
       "\n",
       "try {\n",
       "require(['notebook/js/codecell'], function(codecell) {\n",
       "  codecell.CodeCell.options_default.highlight_modes[\n",
       "      'magic_text/x-csrc'] = {'reg':[/^%%pybind11/]};\n",
       "  Jupyter.notebook.events.one('kernel_ready.Kernel', function(){\n",
       "      Jupyter.notebook.get_cells().map(function(cell){\n",
       "          if (cell.cell_type == 'code'){ cell.auto_highlight(); } }) ;\n",
       "  });\n",
       "});\n",
       "} catch (e) {};\n"
      ]
     },
     "metadata": {},
     "output_type": "display_data"
    }
   ],
   "source": [
    "from pynq import Overlay, allocate ## Used to interface with Xilinx Zynq hardware, allowing work in PL with Python.\n",
    "import cv2 ##  Imports the OpenCV library, which is commonly used for image processing tasks.\n",
    "from PIL import Image, ImageFilter ## Used for opening, manipulating, and saving many different image file formats.\n",
    "import numpy as np ## Provides support for arrays and matrices, along with a collection of mathematical functions.\n",
    "import io, os ## Used for handling various types of I/O and interacting with the operating system.\n",
    "ol = Overlay('Sobel_V.bit') ## Implements a Sobel filter in the FPGA using the bit file."
   ]
  },
  {
   "cell_type": "code",
   "execution_count": 2,
   "id": "5030967d",
   "metadata": {},
   "outputs": [],
   "source": [
    "dma = ol.axi_dma_0 ## Name definition for the DMA in the system.\n",
    "tr_val = ol.axi_gpio_0.channel1[0:8] ## Name definition for the threshold value by using the AXI GPIO in the system."
   ]
  },
  {
   "cell_type": "code",
   "execution_count": 3,
   "id": "e7690eca",
   "metadata": {},
   "outputs": [],
   "source": [
    "image = cv2.imread(\"Carry.jpg\") ## Read an image file and stores it in the variable image.\n",
    "tr_val.write(90) ## Write threshold value.\n",
    "gray_image = cv2.cvtColor(image, cv2.COLOR_BGR2GRAY) ## converts the original image to a grayscale image. The result is stored in gray_image.\n",
    "new_width = 1280 ## Write width  value.\n",
    "new_height = 720 ## Write height value.\n",
    "resized_image = cv2.resize(gray_image, (new_width, new_height)) ##  resizes the gray_image to the specified dimensions (1280x720). The resized image is stored in resized_image.\n",
    "cv2.imwrite('Carry_new_size.jpg', resized_image) ## saves the resized image.\n",
    "image_size = (new_height, new_width) ## saves the new_height and new_width in one variable.\n",
    "in_buffer = allocate(shape=(image_size), dtype=np.uint8, cacheable=True) ## allocate memory buffers for input,set to the shape defined by image_size and are of type uint8 (8-bit unsigned integers).\n",
    "out_buffer = allocate(shape=(image_size), dtype=np.uint8, cacheable=True) ## allocate memory buffers for output,set to the shape defined by image_size and are of type uint8 (8-bit unsigned integers).\n",
    "output_image= np.copy(out_buffer) ## copy size.\n",
    "in_buffer[:] = resized_image[:] ## Copies the contents of the resized_image into the in_buffer."
   ]
  },
  {
   "cell_type": "code",
   "execution_count": 4,
   "id": "dddf3b89",
   "metadata": {},
   "outputs": [],
   "source": [
    "dma.recvchannel.stop()  # Stop the DMA if it’s running\n",
    "dma.recvchannel.start()  # Reset the DMA instance\n",
    "dma.sendchannel.stop()  # Stop the DMA if it’s running\n",
    "dma.sendchannel.start()  # Reset the DMA instance\n",
    "dma.recvchannel.transfer(out_buffer) ## Start sending using the DMA the image to Sobel filter IP and wait to the end of the process. \n",
    "dma.sendchannel.transfer(in_buffer) ## Start sending using the DMA the image from DDR to Sobel filter IP and wait to the end of the process.\n",
    "dma.recvchannel.wait()\n",
    "dma.sendchannel.wait()\n",
    "\n",
    "output_image[:] = out_buffer[:]\n",
    "cv2.imwrite('Carry_edges(th=90).jpg', output_image) ## Saving the processed image.\n",
    "\n",
    "del in_buffer ## Delete the buffers. \n",
    "del out_buffer"
   ]
  }
 ],
 "metadata": {
  "kernelspec": {
   "display_name": "Python 3 (ipykernel)",
   "language": "python",
   "name": "python3"
  },
  "language_info": {
   "codemirror_mode": {
    "name": "ipython",
    "version": 3
   },
   "file_extension": ".py",
   "mimetype": "text/x-python",
   "name": "python",
   "nbconvert_exporter": "python",
   "pygments_lexer": "ipython3",
   "version": "3.10.4"
  }
 },
 "nbformat": 4,
 "nbformat_minor": 5
}
